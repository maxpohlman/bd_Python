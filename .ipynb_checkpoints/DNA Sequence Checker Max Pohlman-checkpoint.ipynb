{
 "cells": [
  {
   "cell_type": "code",
   "execution_count": 9,
   "metadata": {
    "collapsed": false
   },
   "outputs": [
    {
     "name": "stderr",
     "output_type": "stream",
     "text": [
      "  % Total    % Received % Xferd  Average Speed   Time    Time     Time  Current\n",
      "                                 Dload  Upload   Total   Spent    Left  Speed\n",
      "\n",
      "  0     0    0     0    0     0      0      0 --:--:-- --:--:-- --:--:--     0\n",
      "100 21190  100 21190    0     0   220k      0 --:--:-- --:--:-- --:--:--  220k\n"
     ]
    }
   ],
   "source": [
    "!curl -O http://rachelss.github.io/Bioinformatics/sample.fastq"
   ]
  },
  {
   "cell_type": "code",
   "execution_count": 10,
   "metadata": {
    "collapsed": false
   },
   "outputs": [
    {
     "name": "stdout",
     "output_type": "stream",
     "text": [
      "sample.fastq\n",
      "Untitled.ipynb\n",
      "untitled.txt\n",
      "Untitled1.ipynb\n"
     ]
    }
   ],
   "source": [
    "!ls"
   ]
  },
  {
   "cell_type": "code",
   "execution_count": 13,
   "metadata": {
    "collapsed": false
   },
   "outputs": [
    {
     "name": "stdout",
     "output_type": "stream",
     "text": [
      "-rw-r--r-- 1 Max 197121 21K Mar 30 13:52 sample.fastq\n"
     ]
    }
   ],
   "source": [
    "!ls -lh sample.*"
   ]
  },
  {
   "cell_type": "code",
   "execution_count": 11,
   "metadata": {
    "collapsed": false
   },
   "outputs": [
    {
     "name": "stderr",
     "output_type": "stream",
     "text": [
      "head: cannot open '(sample.fastq)' for reading: No such file or directory\n"
     ]
    }
   ],
   "source": [
    "!head(sample.fastq)"
   ]
  },
  {
   "cell_type": "code",
   "execution_count": 12,
   "metadata": {
    "collapsed": false
   },
   "outputs": [
    {
     "ename": "NameError",
     "evalue": "name 'sample' is not defined",
     "output_type": "error",
     "traceback": [
      "\u001b[0;31m---------------------------------------------------------------------------\u001b[0m",
      "\u001b[0;31mNameError\u001b[0m                                 Traceback (most recent call last)",
      "\u001b[0;32m<ipython-input-12-03bc131fbea3>\u001b[0m in \u001b[0;36m<module>\u001b[0;34m()\u001b[0m\n\u001b[0;32m----> 1\u001b[0;31m \u001b[0msample\u001b[0m\u001b[1;33m.\u001b[0m\u001b[0mfastq\u001b[0m\u001b[1;33m\u001b[0m\u001b[0m\n\u001b[0m",
      "\u001b[0;31mNameError\u001b[0m: name 'sample' is not defined"
     ]
    }
   ],
   "source": [
    "sample.fastq"
   ]
  },
  {
   "cell_type": "code",
   "execution_count": 7,
   "metadata": {
    "collapsed": false
   },
   "outputs": [
    {
     "name": "stderr",
     "output_type": "stream",
     "text": [
      "head: cannot open '(sample.fastq)' for reading: No such file or directory\n"
     ]
    }
   ],
   "source": [
    "!head(sample.fastq)"
   ]
  },
  {
   "cell_type": "code",
   "execution_count": 2,
   "metadata": {
    "collapsed": true
   },
   "outputs": [],
   "source": [
    "filename = 'sample.fastq'\n",
    "f = open(filename, 'r')"
   ]
  },
  {
   "cell_type": "code",
   "execution_count": 3,
   "metadata": {
    "collapsed": true
   },
   "outputs": [],
   "source": [
    "fastq=f.readlines()"
   ]
  },
  {
   "cell_type": "code",
   "execution_count": 17,
   "metadata": {
    "collapsed": false
   },
   "outputs": [
    {
     "name": "stdout",
     "output_type": "stream",
     "text": [
      "@read0\n",
      "\n"
     ]
    }
   ],
   "source": [
    "print(fastq[0])"
   ]
  },
  {
   "cell_type": "code",
   "execution_count": 24,
   "metadata": {
    "collapsed": false
   },
   "outputs": [
    {
     "name": "stdout",
     "output_type": "stream",
     "text": [
      "200 210 195 195\n"
     ]
    }
   ],
   "source": [
    "a_counter = 0\n",
    "c_counter = 0\n",
    "g_counter = 0\n",
    "t_counter = 0\n",
    "for line_num,line in enumerate(fastq[0:30]):\n",
    "    if line_num % 4 ==1:\n",
    "        for base in line: #pull out each char of string\n",
    "            if base == 'A':\n",
    "                a_counter = a_counter + 1\n",
    "            if base == 'G':\n",
    "                g_counter = g_counter + 1\n",
    "            if base == 'T':\n",
    "                t_counter = t_counter + 1\n",
    "            if base == 'C':\n",
    "                c_counter = c_counter + 1\n",
    "a_counter   \n",
    "t_counter\n",
    "c_counter\n",
    "g_counter\n",
    "print(a_counter,t_counter,c_counter,g_counter)"
   ]
  },
  {
   "cell_type": "code",
   "execution_count": 29,
   "metadata": {
    "collapsed": false
   },
   "outputs": [
    {
     "name": "stdout",
     "output_type": "stream",
     "text": [
      "[200, 195, 195, 210]\n"
     ]
    }
   ],
   "source": [
    "count_list=[0,0,0,0]\n",
    "for line_num,line in enumerate(fastq[0:30]):\n",
    "    if line_num % 4 ==1:\n",
    "        for base in line: #pull out each char of string\n",
    "            if base == 'A':\n",
    "                count_list[0] = count_list[0] + 1\n",
    "            if base == 'C':\n",
    "                count_list[1] = count_list[1] + 1\n",
    "            if base == 'G':\n",
    "                count_list[2] = count_list[2] + 1\n",
    "            if base == 'T':\n",
    "                count_list[3] = count_list[3] + 1\n",
    "                \n",
    "print(count_list)\n",
    "\n",
    "####\n",
    "        \n",
    "        for base in line: #pull out each char of string\n",
    "            if base == 'A':\n",
    "                lengthchecker=0\n",
    "                if base\n",
    "                count_bases['A'] +=1\n",
    "                \n",
    "                \n",
    "            if base == 'C':\n",
    "                count_bases['C'] +=1            \n",
    "            if base == 'G':\n",
    "                count_bases['G'] +=1 \n",
    "            if base == 'T':\n",
    "                count_bases['T'] +=1 \n",
    "                \n",
    "print(count_bases)\n",
    "\n"
   ]
  },
  {
   "cell_type": "code",
   "execution_count": 59,
   "metadata": {
    "collapsed": false
   },
   "outputs": [
    {
     "name": "stdout",
     "output_type": "stream",
     "text": [
      "{'1Char': 0, '2Char': 42, '3Char': 8, '4Char': 3, '5Char': 2, '6Char': 1, '7Char': 2}\n"
     ]
    }
   ],
   "source": [
    "alist = {'1Char':0,'2Char':0,'3Char':0,'4Char':0, '5Char':0, '6Char':0,'7Char':0}\n",
    "\n",
    "for line_num,line in enumerate(fastq[0:30]):\n",
    "    if line_num % 4 ==1:\n",
    "        for index,character in enumerate(line):\n",
    "            if character == 'A':\n",
    "                if line[index+1] == 'A':\n",
    "                    if line[index+2] == 'A':\n",
    "                        if line[index+3] == 'A':\n",
    "                            if line[index+4] == 'A':\n",
    "                                if line[index+5] == 'A':\n",
    "                                    if line[index+6] == 'A':\n",
    "                                        alist['7Char'] += 1\n",
    "                                    else:\n",
    "                                        alist['6Char'] += 1\n",
    "                                else:\n",
    "                                    alist['5Char'] +=1\n",
    "                            else:\n",
    "                                alist['4Char'] +=1\n",
    "                        else:\n",
    "                            alist['3Char'] +=1      \n",
    "                    else:\n",
    "                        alist['2Char'] +=1\n",
    "                else:\n",
    "                    alist['1Char']\n",
    "print(alist)\n",
    "                \n",
    "                    \n",
    "                \n",
    "        \n",
    "        \n",
    "\n"
   ]
  },
  {
   "cell_type": "code",
   "execution_count": 42,
   "metadata": {
    "collapsed": false
   },
   "outputs": [
    {
     "data": {
      "text/plain": [
       "<enumerate at 0x15d60805828>"
      ]
     },
     "execution_count": 42,
     "metadata": {},
     "output_type": "execute_result"
    }
   ],
   "source": [
    "enumerate(line)"
   ]
  },
  {
   "cell_type": "code",
   "execution_count": 43,
   "metadata": {
    "collapsed": false
   },
   "outputs": [
    {
     "data": {
      "text/plain": [
       "<enumerate at 0x15d60805090>"
      ]
     },
     "execution_count": 43,
     "metadata": {},
     "output_type": "execute_result"
    }
   ],
   "source": [
    "enumerate(line[4])"
   ]
  },
  {
   "cell_type": "code",
   "execution_count": 46,
   "metadata": {
    "collapsed": false
   },
   "outputs": [
    {
     "data": {
      "text/plain": [
       "(100, '\\n')"
      ]
     },
     "execution_count": 46,
     "metadata": {},
     "output_type": "execute_result"
    }
   ],
   "source": [
    "charchecker"
   ]
  },
  {
   "cell_type": "code",
   "execution_count": 47,
   "metadata": {
    "collapsed": false
   },
   "outputs": [
    {
     "ename": "TypeError",
     "evalue": "string indices must be integers",
     "output_type": "error",
     "traceback": [
      "\u001b[0;31m---------------------------------------------------------------------------\u001b[0m",
      "\u001b[0;31mTypeError\u001b[0m                                 Traceback (most recent call last)",
      "\u001b[0;32m<ipython-input-47-fc9bb246404d>\u001b[0m in \u001b[0;36m<module>\u001b[0;34m()\u001b[0m\n\u001b[0;32m----> 1\u001b[0;31m \u001b[0mline\u001b[0m\u001b[1;33m[\u001b[0m\u001b[0mcharchecker\u001b[0m\u001b[1;33m]\u001b[0m\u001b[1;33m\u001b[0m\u001b[0m\n\u001b[0m",
      "\u001b[0;31mTypeError\u001b[0m: string indices must be integers"
     ]
    }
   ],
   "source": [
    "line[charchecker]"
   ]
  },
  {
   "cell_type": "code",
   "execution_count": 53,
   "metadata": {
    "collapsed": false
   },
   "outputs": [
    {
     "data": {
      "text/plain": [
       "'A'"
      ]
     },
     "execution_count": 53,
     "metadata": {},
     "output_type": "execute_result"
    }
   ],
   "source": [
    "line[4]"
   ]
  },
  {
   "cell_type": "code",
   "execution_count": 56,
   "metadata": {
    "collapsed": false
   },
   "outputs": [
    {
     "ename": "SyntaxError",
     "evalue": "invalid syntax (<ipython-input-56-0d75be4bb79c>, line 1)",
     "output_type": "error",
     "traceback": [
      "\u001b[0;36m  File \u001b[0;32m\"<ipython-input-56-0d75be4bb79c>\"\u001b[0;36m, line \u001b[0;32m1\u001b[0m\n\u001b[0;31m    op = {['1CharA':0,'2CharA':0,'3CharA':0,'4CharA':0, '5CharA':0], ['1CharA':0,'2CharA':0,'3CharA':0,'4CharA':0, '5CharA':0]}\u001b[0m\n\u001b[0m                   ^\u001b[0m\n\u001b[0;31mSyntaxError\u001b[0m\u001b[0;31m:\u001b[0m invalid syntax\n"
     ]
    }
   ],
   "source": [
    "op = {['1CharA':0,'2CharA':0,'3CharA':0,'4CharA':0, '5CharA':0], ['1CharA':0,'2CharA':0,'3CharA':0,'4CharA':0, '5CharA':0]}"
   ]
  },
  {
   "cell_type": "code",
   "execution_count": 5,
   "metadata": {
    "collapsed": false
   },
   "outputs": [
    {
     "name": "stdout",
     "output_type": "stream",
     "text": [
      "This was a  2  long chain\n",
      "This was a  2  long chain\n",
      "This was a  2  long chain\n",
      "This was a  2  long chain\n",
      "This was a  2  long chain\n",
      "This was a  2  long chain\n",
      "This was a  2  long chain\n"
     ]
    },
    {
     "ename": "KeyboardInterrupt",
     "evalue": "",
     "output_type": "error",
     "traceback": [
      "\u001b[0;31m---------------------------------------------------------------------------\u001b[0m",
      "\u001b[0;31mKeyboardInterrupt\u001b[0m                         Traceback (most recent call last)",
      "\u001b[0;32m<ipython-input-5-9cbacc15e14a>\u001b[0m in \u001b[0;36m<module>\u001b[0;34m()\u001b[0m\n\u001b[1;32m     10\u001b[0m                 \u001b[1;32mwhile\u001b[0m \u001b[0mlooper\u001b[0m \u001b[1;33m==\u001b[0m \u001b[1;34m'A'\u001b[0m\u001b[1;33m:\u001b[0m\u001b[1;33m\u001b[0m\u001b[0m\n\u001b[1;32m     11\u001b[0m                     \u001b[0mlooper\u001b[0m\u001b[1;33m=\u001b[0m\u001b[0mline\u001b[0m\u001b[1;33m[\u001b[0m\u001b[0miamhere\u001b[0m\u001b[1;33m+\u001b[0m\u001b[1;36m1\u001b[0m\u001b[1;33m]\u001b[0m\u001b[1;33m\u001b[0m\u001b[0m\n\u001b[0;32m---> 12\u001b[0;31m                     \u001b[0mlchk\u001b[0m\u001b[1;33m+=\u001b[0m\u001b[1;36m1\u001b[0m\u001b[1;33m\u001b[0m\u001b[0m\n\u001b[0m\u001b[1;32m     13\u001b[0m                 \u001b[0mprint\u001b[0m\u001b[1;33m(\u001b[0m\u001b[1;34m'This was a '\u001b[0m\u001b[1;33m,\u001b[0m \u001b[0mlchk\u001b[0m\u001b[1;33m,\u001b[0m \u001b[1;34m' long chain'\u001b[0m\u001b[1;33m)\u001b[0m\u001b[1;33m\u001b[0m\u001b[0m\n\u001b[1;32m     14\u001b[0m \u001b[1;33m\u001b[0m\u001b[0m\n",
      "\u001b[0;31mKeyboardInterrupt\u001b[0m: "
     ]
    }
   ],
   "source": [
    "alist = {'1Char':0,'2Char':0,'3Char':0,'4Char':0, '5Char':0, '6Char':0,'7Char':0}\n",
    "lchk = 0\n",
    "for line_num,line in enumerate(fastq[0:30]):\n",
    "    if line_num % 4 ==1:\n",
    "        for index,character in enumerate(line):\n",
    "            if character == 'A':\n",
    "                lchk = 1\n",
    "                looper = 'A'\n",
    "                iamhere = index\n",
    "                while looper == 'A':\n",
    "                    looper=line[iamhere+1]\n",
    "                    lchk+=1\n",
    "                print('This was a ', lchk, ' long chain')\n",
    "                "
   ]
  },
  {
   "cell_type": "code",
   "execution_count": 41,
   "metadata": {
    "collapsed": false,
    "scrolled": true
   },
   "outputs": [
    {
     "name": "stdout",
     "output_type": "stream",
     "text": [
      "There were 317 counts of 2 back-to-back As.\n",
      "There were 88 counts of 3 back-to-back As.\n",
      "There were 11 counts of 4 back-to-back As.\n",
      "There were 7 counts of 5 back-to-back As.\n",
      "There were 0 counts of 6 back-to-back As.\n",
      "There were 0 counts of 7 back-to-back As.\n",
      "There were 1 counts of 8 back-to-back As.\n",
      "There were 368 counts of 2 back-to-back Cs.\n",
      "There were 76 counts of 3 back-to-back Cs.\n",
      "There were 15 counts of 4 back-to-back Cs.\n",
      "There were 6 counts of 5 back-to-back Cs.\n",
      "There were 1 counts of 6 back-to-back Cs.\n",
      "There were 0 counts of 7 back-to-back Cs.\n",
      "There were 0 counts of 8 back-to-back Cs.\n",
      "There were 348 counts of 2 back-to-back Gs.\n",
      "There were 77 counts of 3 back-to-back Gs.\n",
      "There were 16 counts of 4 back-to-back Gs.\n",
      "There were 4 counts of 5 back-to-back Gs.\n",
      "There were 3 counts of 6 back-to-back Gs.\n",
      "There were 0 counts of 7 back-to-back Gs.\n",
      "There were 0 counts of 8 back-to-back Gs.\n",
      "There were 332 counts of 2 back-to-back Ts.\n",
      "There were 63 counts of 3 back-to-back Ts.\n",
      "There were 33 counts of 4 back-to-back Ts.\n",
      "There were 4 counts of 5 back-to-back Ts.\n",
      "There were 2 counts of 6 back-to-back Ts.\n",
      "There were 0 counts of 7 back-to-back Ts.\n",
      "There were 0 counts of 8 back-to-back Ts.\n"
     ]
    }
   ],
   "source": [
    "#Max Pohlman\n",
    "\n",
    "output = [[0,0,0,0,0,0,0],[0,0,0,0,0,0,0],[0,0,0,0,0,0,0],[0,0,0,0,0,0,0]] #defines output matrix\n",
    "for line_num,line in enumerate(fastq): #looks at each line \n",
    "    if line_num % 4 ==1: #if line number is divisible by 4, we can do analysis\n",
    "        i=0 #sets initial location for char string\n",
    "        while i < len(line): #i use while instead of enumerate because it's what I'm used to\n",
    "            if (line[i] == 'A' and line[i+1] == 'A'): #checks if there's a match between current spot and next spot\n",
    "                lchk=1 #sets counter for how long the sequence will be\n",
    "                while line[i+lchk] =='A': #while the next character checked is an A\n",
    "                    lchk+=1 #increase the checking range\n",
    "                    if line[i+lchk] != 'A': #if the checking range sees a letter that is not A\n",
    "                        break #break the while loop\n",
    "                output[0][lchk-2]+=1 #adds a count to the correct sequence length spot in the output matrix\n",
    "                i = i + lchk # increases the location to after the sequence (used to prevent counting a 5 chain as a 4,3,2 chain as well)\n",
    "            \n",
    "            #repeats for Cs\n",
    "            if (line[i] == 'C' and line[i+1] == 'C'):\n",
    "                lchk=1\n",
    "                while line[i+lchk] =='C':\n",
    "                    lchk+=1\n",
    "                    if line[i+lchk] != 'C':\n",
    "                        break\n",
    "                output[1][lchk-2]+=1\n",
    "                i = i + lchk\n",
    "            \n",
    "            #repeats for Gs\n",
    "            if (line[i] == 'G' and line[i+1] == 'G'):\n",
    "                lchk=1\n",
    "                while line[i+lchk] =='G':\n",
    "                    lchk+=1\n",
    "                    if line[i+lchk] != 'G':\n",
    "                        break\n",
    "                output[2][lchk-2]+=1\n",
    "                i = i + lchk\n",
    "            \n",
    "            #repeats for Ts\n",
    "            if (line[i] == 'T' and line[i+1] == 'T'):\n",
    "                lchk=1\n",
    "                while line[i+lchk] =='T':\n",
    "                    lchk+=1\n",
    "                    if line[i+lchk] != 'T':\n",
    "                        break\n",
    "                output[3][lchk-2]+=1\n",
    "                i = i + lchk\n",
    "                \n",
    "            #if there are no matches, then just move up by 1 position    \n",
    "            else:\n",
    "                i+=1\n",
    "                \n",
    "#This section just prints output, nothing really fancy.                \n",
    "for i in range(4):\n",
    "    if i == 0:\n",
    "        for j in range(7):\n",
    "            print('There were', output[i][j], 'counts of', j+2, 'back-to-back As.')\n",
    "    if i == 1:\n",
    "        for j in range(7):\n",
    "            print('There were', output[i][j], 'counts of', j+2, 'back-to-back Cs.')\n",
    "    if i == 2:\n",
    "        for j in range(7):\n",
    "            print('There were', output[i][j], 'counts of', j+2, 'back-to-back Gs.')\n",
    "    if i == 3:\n",
    "        for j in range(7):\n",
    "            print('There were', output[i][j], 'counts of', j+2, 'back-to-back Ts.')\n",
    "    \n",
    "        "
   ]
  },
  {
   "cell_type": "code",
   "execution_count": 32,
   "metadata": {
    "collapsed": false
   },
   "outputs": [
    {
     "data": {
      "text/plain": [
       "range(0, 4)"
      ]
     },
     "execution_count": 32,
     "metadata": {},
     "output_type": "execute_result"
    }
   ],
   "source": [
    "range(4)"
   ]
  },
  {
   "cell_type": "code",
   "execution_count": null,
   "metadata": {
    "collapsed": true
   },
   "outputs": [],
   "source": [
    "jk"
   ]
  },
  {
   "cell_type": "code",
   "execution_count": 67,
   "metadata": {
    "collapsed": false
   },
   "outputs": [
    {
     "name": "stdout",
     "output_type": "stream",
     "text": [
      "There were 301 counts of 2 back-to-back As.\n",
      "There were 83 counts of 3 back-to-back As.\n",
      "There were 9 counts of 4 back-to-back As.\n",
      "There were 7 counts of 5 back-to-back As.\n",
      "There were 0 counts of 6 back-to-back As.\n",
      "There were 0 counts of 7 back-to-back As.\n",
      "There were 1 counts of 8 back-to-back As.\n",
      "There were 347 counts of 2 back-to-back Cs.\n",
      "There were 64 counts of 3 back-to-back Cs.\n",
      "There were 17 counts of 4 back-to-back Cs.\n",
      "There were 5 counts of 5 back-to-back Cs.\n",
      "There were 1 counts of 6 back-to-back Cs.\n",
      "There were 0 counts of 7 back-to-back Cs.\n",
      "There were 0 counts of 8 back-to-back Cs.\n",
      "There were 323 counts of 2 back-to-back Gs.\n",
      "There were 71 counts of 3 back-to-back Gs.\n",
      "There were 15 counts of 4 back-to-back Gs.\n",
      "There were 4 counts of 5 back-to-back Gs.\n",
      "There were 3 counts of 6 back-to-back Gs.\n",
      "There were 0 counts of 7 back-to-back Gs.\n",
      "There were 0 counts of 8 back-to-back Gs.\n",
      "There were 332 counts of 2 back-to-back Ts.\n",
      "There were 63 counts of 3 back-to-back Ts.\n",
      "There were 33 counts of 4 back-to-back Ts.\n",
      "There were 4 counts of 5 back-to-back Ts.\n",
      "There were 2 counts of 6 back-to-back Ts.\n",
      "There were 0 counts of 7 back-to-back Ts.\n",
      "There were 0 counts of 8 back-to-back Ts.\n"
     ]
    }
   ],
   "source": [
    "#Max Pohlman\n",
    "\n",
    "filename = 'sample.fastq'\n",
    "f = open(filename, 'r')\n",
    "fastq=f.readlines()\n",
    "\n",
    "output = [[0,0,0,0,0,0,0],[0,0,0,0,0,0,0],[0,0,0,0,0,0,0],[0,0,0,0,0,0,0]] #defines output matrix\n",
    "mylets = ['A','C','G','T'] #defines input letters for loop\n",
    "for line_num,line in enumerate(fastq): #looks at each line \n",
    "    if line_num % 4 ==1: #if line number is divisible by 4, we can do analysis\n",
    "        i=0 #sets initial location for char string\n",
    "        while i < len(line): #i use while instead of enumerate because it's what I'm used to\n",
    "            for let in mylets: #loops through the letters\n",
    "                if (line[i] == let and line[i+1] == let): #checks if there's a match between current spot and next spot\n",
    "                    lchk=1 #sets counter for how long the sequence will be\n",
    "                    while line[i+lchk] ==let: #while the next character checked is a match\n",
    "                        lchk+=1 #increase the checking range until no match\n",
    "                    output[mylets.index(let)][lchk-2]+=1 #adds a count to the correct sequence length spot in the output matrix (row = letter, column = length)\n",
    "                    i = i + lchk # increases the location to after the sequence (used to prevent counting a 5 chain as a 4,3,2 chain as well)\n",
    "            i+=1 #if there are no matches, just move up one slot\n",
    "        \n",
    "#This section just prints output, nothing really fancy.                \n",
    "for i in range(4):\n",
    "    if i == 0:\n",
    "        for j in range(7):\n",
    "            print('There were', output[i][j], 'counts of', j+2, 'back-to-back As.')\n",
    "    if i == 1:\n",
    "        for j in range(7):\n",
    "            print('There were', output[i][j], 'counts of', j+2, 'back-to-back Cs.')\n",
    "    if i == 2:\n",
    "        for j in range(7):\n",
    "            print('There were', output[i][j], 'counts of', j+2, 'back-to-back Gs.')\n",
    "    if i == 3:\n",
    "        for j in range(7):\n",
    "            print('There were', output[i][j], 'counts of', j+2, 'back-to-back Ts.')"
   ]
  },
  {
   "cell_type": "code",
   "execution_count": 62,
   "metadata": {
    "collapsed": false
   },
   "outputs": [
    {
     "data": {
      "text/plain": [
       "'T'"
      ]
     },
     "execution_count": 62,
     "metadata": {},
     "output_type": "execute_result"
    }
   ],
   "source": [
    "z"
   ]
  },
  {
   "cell_type": "code",
   "execution_count": null,
   "metadata": {
    "collapsed": true
   },
   "outputs": [],
   "source": []
  }
 ],
 "metadata": {
  "kernelspec": {
   "display_name": "Python 3",
   "language": "python",
   "name": "python3"
  },
  "language_info": {
   "codemirror_mode": {
    "name": "ipython",
    "version": 3
   },
   "file_extension": ".py",
   "mimetype": "text/x-python",
   "name": "python",
   "nbconvert_exporter": "python",
   "pygments_lexer": "ipython3",
   "version": "3.6.0"
  }
 },
 "nbformat": 4,
 "nbformat_minor": 2
}
