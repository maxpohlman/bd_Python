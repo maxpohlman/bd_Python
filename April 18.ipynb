{
 "cells": [
  {
   "cell_type": "code",
   "execution_count": 46,
   "metadata": {
    "collapsed": true
   },
   "outputs": [],
   "source": [
    "import pandas as pd\n",
    "import matplotlib.pyplot as plt\n",
    "import numpy as np\n",
    "%matplotlib inline\n",
    "\n",
    "\n",
    "survey_data = pd.read_csv('surveys.csv', keep_default_na=False, \n",
    "                          na_values=[\"\"])\n",
    "\n"
   ]
  },
  {
   "cell_type": "code",
   "execution_count": 2,
   "metadata": {
    "collapsed": false
   },
   "outputs": [
    {
     "ename": "NameError",
     "evalue": "name 'head' is not defined",
     "output_type": "error",
     "traceback": [
      "\u001b[0;31m---------------------------------------------------------------------------\u001b[0m",
      "\u001b[0;31mNameError\u001b[0m                                 Traceback (most recent call last)",
      "\u001b[0;32m<ipython-input-2-290439e1e1bc>\u001b[0m in \u001b[0;36m<module>\u001b[0;34m()\u001b[0m\n\u001b[0;32m----> 1\u001b[0;31m \u001b[0mhead\u001b[0m\u001b[1;33m(\u001b[0m\u001b[0msurvey_data\u001b[0m\u001b[1;33m)\u001b[0m\u001b[1;33m\u001b[0m\u001b[0m\n\u001b[0m",
      "\u001b[0;31mNameError\u001b[0m: name 'head' is not defined"
     ]
    }
   ],
   "source": [
    "head(survey_data)"
   ]
  },
  {
   "cell_type": "code",
   "execution_count": 3,
   "metadata": {
    "collapsed": false
   },
   "outputs": [
    {
     "data": {
      "text/html": [
       "<div>\n",
       "<table border=\"1\" class=\"dataframe\">\n",
       "  <thead>\n",
       "    <tr style=\"text-align: right;\">\n",
       "      <th></th>\n",
       "      <th>record_id</th>\n",
       "      <th>month</th>\n",
       "      <th>day</th>\n",
       "      <th>year</th>\n",
       "      <th>plot</th>\n",
       "      <th>species</th>\n",
       "      <th>sex</th>\n",
       "      <th>wgt</th>\n",
       "    </tr>\n",
       "  </thead>\n",
       "  <tbody>\n",
       "    <tr>\n",
       "      <th>0</th>\n",
       "      <td>1</td>\n",
       "      <td>7</td>\n",
       "      <td>16</td>\n",
       "      <td>1977</td>\n",
       "      <td>2</td>\n",
       "      <td>NA</td>\n",
       "      <td>M</td>\n",
       "      <td>NaN</td>\n",
       "    </tr>\n",
       "    <tr>\n",
       "      <th>1</th>\n",
       "      <td>2</td>\n",
       "      <td>7</td>\n",
       "      <td>16</td>\n",
       "      <td>1977</td>\n",
       "      <td>3</td>\n",
       "      <td>NA</td>\n",
       "      <td>M</td>\n",
       "      <td>NaN</td>\n",
       "    </tr>\n",
       "    <tr>\n",
       "      <th>2</th>\n",
       "      <td>3</td>\n",
       "      <td>7</td>\n",
       "      <td>16</td>\n",
       "      <td>1977</td>\n",
       "      <td>2</td>\n",
       "      <td>DM</td>\n",
       "      <td>F</td>\n",
       "      <td>NaN</td>\n",
       "    </tr>\n",
       "    <tr>\n",
       "      <th>3</th>\n",
       "      <td>4</td>\n",
       "      <td>7</td>\n",
       "      <td>16</td>\n",
       "      <td>1977</td>\n",
       "      <td>7</td>\n",
       "      <td>DM</td>\n",
       "      <td>M</td>\n",
       "      <td>NaN</td>\n",
       "    </tr>\n",
       "    <tr>\n",
       "      <th>4</th>\n",
       "      <td>5</td>\n",
       "      <td>7</td>\n",
       "      <td>16</td>\n",
       "      <td>1977</td>\n",
       "      <td>3</td>\n",
       "      <td>DM</td>\n",
       "      <td>M</td>\n",
       "      <td>NaN</td>\n",
       "    </tr>\n",
       "  </tbody>\n",
       "</table>\n",
       "</div>"
      ],
      "text/plain": [
       "   record_id  month  day  year  plot species sex  wgt\n",
       "0          1      7   16  1977     2      NA   M  NaN\n",
       "1          2      7   16  1977     3      NA   M  NaN\n",
       "2          3      7   16  1977     2      DM   F  NaN\n",
       "3          4      7   16  1977     7      DM   M  NaN\n",
       "4          5      7   16  1977     3      DM   M  NaN"
      ]
     },
     "execution_count": 3,
     "metadata": {},
     "output_type": "execute_result"
    }
   ],
   "source": [
    "survey_data.head()"
   ]
  },
  {
   "cell_type": "code",
   "execution_count": 22,
   "metadata": {
    "collapsed": false
   },
   "outputs": [
    {
     "name": "stdout",
     "output_type": "stream",
     "text": [
      "        count       mean        std  min   25%   50%   75%    max\n",
      "month                                                            \n",
      "1      2267.0  41.656815  35.843690  4.0  22.0  38.0  47.0  275.0\n",
      "2      2578.0  40.569822  33.760863  4.0  21.0  39.0  48.0  259.0\n",
      "3      2998.0  42.558372  35.517553  4.0  20.0  40.0  49.0  259.0\n",
      "4      3163.0  45.290231  36.659655  4.0  21.0  41.0  50.0  270.0\n",
      "5      2815.0  46.651155  38.479558  4.0  21.0  40.0  50.0  278.0\n",
      "6      2442.0  41.161753  35.718637  4.0  19.0  32.0  47.0  241.0\n",
      "7      3265.0  39.923124  35.190612  5.0  18.0  30.0  46.0  269.0\n",
      "8      2093.0  42.575729  37.743507  5.0  18.0  32.0  46.0  216.0\n",
      "9      2445.0  43.830675  39.428113  4.0  20.0  34.0  48.0  248.0\n",
      "10     2811.0  43.879402  38.703417  4.0  22.0  36.0  47.0  274.0\n",
      "11     2830.0  43.046996  37.530404  4.0  22.0  36.0  46.0  280.0\n",
      "12     2576.0  40.408385  34.195386  4.0  22.0  36.0  46.0  248.0\n"
     ]
    }
   ],
   "source": [
    "def ss (inputt):\n",
    "    tmp = inputt.groupby('month')\n",
    "    print(tmp.wgt.describe().unstack())\n",
    "\n",
    "ss(survey_data)"
   ]
  },
  {
   "cell_type": "code",
   "execution_count": 13,
   "metadata": {
    "collapsed": false
   },
   "outputs": [
    {
     "name": "stderr",
     "output_type": "stream",
     "text": [
      "  % Total    % Received % Xferd  Average Speed   Time    Time     Time  Current\n",
      "                                 Dload  Upload   Total   Spent    Left  Speed\n",
      "\n",
      "  0     0    0     0    0     0      0      0 --:--:-- --:--:-- --:--:--     0\n",
      "100  936k  100  936k    0     0  2300k      0 --:--:-- --:--:-- --:--:-- 2300k\n"
     ]
    }
   ],
   "source": [
    "!curl -O https://raw.githubusercontent.com/rachelss/BigDataAnalysis/gh-pages/surveys2.csv\n",
    "surveytwo = pd.read_csv('surveys2.csv')"
   ]
  },
  {
   "cell_type": "code",
   "execution_count": 14,
   "metadata": {
    "collapsed": false
   },
   "outputs": [
    {
     "data": {
      "text/html": [
       "<div>\n",
       "<table border=\"1\" class=\"dataframe\">\n",
       "  <thead>\n",
       "    <tr style=\"text-align: right;\">\n",
       "      <th></th>\n",
       "      <th>record_id</th>\n",
       "      <th>month</th>\n",
       "      <th>day</th>\n",
       "      <th>year</th>\n",
       "      <th>plot</th>\n",
       "      <th>species</th>\n",
       "      <th>sex</th>\n",
       "      <th>wgt</th>\n",
       "    </tr>\n",
       "  </thead>\n",
       "  <tbody>\n",
       "    <tr>\n",
       "      <th>0</th>\n",
       "      <td>504</td>\n",
       "      <td>1</td>\n",
       "      <td>8</td>\n",
       "      <td>1978</td>\n",
       "      <td>3</td>\n",
       "      <td>OL</td>\n",
       "      <td>NaN</td>\n",
       "      <td>NaN</td>\n",
       "    </tr>\n",
       "    <tr>\n",
       "      <th>1</th>\n",
       "      <td>505</td>\n",
       "      <td>1</td>\n",
       "      <td>8</td>\n",
       "      <td>1978</td>\n",
       "      <td>13</td>\n",
       "      <td>DM</td>\n",
       "      <td>M</td>\n",
       "      <td>43.0</td>\n",
       "    </tr>\n",
       "    <tr>\n",
       "      <th>2</th>\n",
       "      <td>506</td>\n",
       "      <td>1</td>\n",
       "      <td>8</td>\n",
       "      <td>1978</td>\n",
       "      <td>2</td>\n",
       "      <td>NaN</td>\n",
       "      <td>NaN</td>\n",
       "      <td>NaN</td>\n",
       "    </tr>\n",
       "    <tr>\n",
       "      <th>3</th>\n",
       "      <td>507</td>\n",
       "      <td>1</td>\n",
       "      <td>8</td>\n",
       "      <td>1978</td>\n",
       "      <td>2</td>\n",
       "      <td>DM</td>\n",
       "      <td>M</td>\n",
       "      <td>44.0</td>\n",
       "    </tr>\n",
       "    <tr>\n",
       "      <th>4</th>\n",
       "      <td>508</td>\n",
       "      <td>1</td>\n",
       "      <td>8</td>\n",
       "      <td>1978</td>\n",
       "      <td>20</td>\n",
       "      <td>DM</td>\n",
       "      <td>F</td>\n",
       "      <td>36.0</td>\n",
       "    </tr>\n",
       "  </tbody>\n",
       "</table>\n",
       "</div>"
      ],
      "text/plain": [
       "   record_id  month  day  year  plot species  sex   wgt\n",
       "0        504      1    8  1978     3      OL  NaN   NaN\n",
       "1        505      1    8  1978    13      DM    M  43.0\n",
       "2        506      1    8  1978     2     NaN  NaN   NaN\n",
       "3        507      1    8  1978     2      DM    M  44.0\n",
       "4        508      1    8  1978    20      DM    F  36.0"
      ]
     },
     "execution_count": 14,
     "metadata": {},
     "output_type": "execute_result"
    }
   ],
   "source": [
    "surveytwo.head()"
   ]
  },
  {
   "cell_type": "code",
   "execution_count": 21,
   "metadata": {
    "collapsed": false
   },
   "outputs": [
    {
     "name": "stdout",
     "output_type": "stream",
     "text": [
      "month       \n",
      "1      count    2267.000000\n",
      "       mean       34.774592\n",
      "       std        42.468595\n",
      "       min      -241.000000\n",
      "       25%        20.000000\n",
      "       50%        37.000000\n",
      "       75%        46.000000\n",
      "       max       275.000000\n",
      "2      count    2578.000000\n",
      "       mean       40.569822\n",
      "       std        33.760863\n",
      "       min         4.000000\n",
      "       25%        21.000000\n",
      "       50%        39.000000\n",
      "       75%        48.000000\n",
      "       max       259.000000\n",
      "3      count    2998.000000\n",
      "       mean       42.558372\n",
      "       std        35.517553\n",
      "       min         4.000000\n",
      "       25%        20.000000\n",
      "       50%        40.000000\n",
      "       75%        49.000000\n",
      "       max       259.000000\n",
      "4      count    3163.000000\n",
      "       mean       45.290231\n",
      "       std        36.659655\n",
      "       min         4.000000\n",
      "       25%        21.000000\n",
      "       50%        41.000000\n",
      "                   ...     \n",
      "9      std        39.428113\n",
      "       min         4.000000\n",
      "       25%        20.000000\n",
      "       50%        34.000000\n",
      "       75%        48.000000\n",
      "       max       248.000000\n",
      "10     count    2811.000000\n",
      "       mean       43.879402\n",
      "       std        38.703417\n",
      "       min         4.000000\n",
      "       25%        22.000000\n",
      "       50%        36.000000\n",
      "       75%        47.000000\n",
      "       max       274.000000\n",
      "11     count    2830.000000\n",
      "       mean       43.046996\n",
      "       std        37.530404\n",
      "       min         4.000000\n",
      "       25%        22.000000\n",
      "       50%        36.000000\n",
      "       75%        46.000000\n",
      "       max       280.000000\n",
      "12     count    2576.000000\n",
      "       mean       40.408385\n",
      "       std        34.195386\n",
      "       min         4.000000\n",
      "       25%        22.000000\n",
      "       50%        36.000000\n",
      "       75%        46.000000\n",
      "       max       248.000000\n",
      "Name: wgt, dtype: float64\n"
     ]
    }
   ],
   "source": [
    "ss(surveytwo)"
   ]
  },
  {
   "cell_type": "code",
   "execution_count": 24,
   "metadata": {
    "collapsed": false
   },
   "outputs": [
    {
     "name": "stdout",
     "output_type": "stream",
     "text": [
      "        count       mean         std    min   25%   50%   75%     max\n",
      "month                                                                \n",
      "1      2267.0  34.774592   42.468595 -241.0  20.0  37.0  46.0   275.0\n",
      "2      2578.0  40.569822   33.760863    4.0  21.0  39.0  48.0   259.0\n",
      "3      2998.0  42.558372   35.517553    4.0  20.0  40.0  49.0   259.0\n",
      "4      3163.0  45.290231   36.659655    4.0  21.0  41.0  50.0   270.0\n",
      "5      2815.0  71.564121  313.432294    4.0  21.0  40.0  50.0  6777.0\n",
      "6      2442.0  41.161753   35.718637    4.0  19.0  32.0  47.0   241.0\n",
      "7      3265.0  39.923124   35.190612    5.0  18.0  30.0  46.0   269.0\n",
      "8      2093.0  42.575729   37.743507    5.0  18.0  32.0  46.0   216.0\n",
      "9      2445.0  43.830675   39.428113    4.0  20.0  34.0  48.0   248.0\n",
      "10     2811.0  43.879402   38.703417    4.0  22.0  36.0  47.0   274.0\n",
      "11     2830.0  43.046996   37.530404    4.0  22.0  36.0  46.0   280.0\n",
      "12     2576.0  40.408385   34.195386    4.0  22.0  36.0  46.0   248.0\n"
     ]
    },
    {
     "ename": "TypeError",
     "evalue": "'NoneType' object is not subscriptable",
     "output_type": "error",
     "traceback": [
      "\u001b[0;31m---------------------------------------------------------------------------\u001b[0m",
      "\u001b[0;31mTypeError\u001b[0m                                 Traceback (most recent call last)",
      "\u001b[0;32m<ipython-input-24-e1a71e44f383>\u001b[0m in \u001b[0;36m<module>\u001b[0;34m()\u001b[0m\n\u001b[0;32m----> 1\u001b[0;31m \u001b[0mss\u001b[0m\u001b[1;33m(\u001b[0m\u001b[0msurveytwo\u001b[0m\u001b[1;33m)\u001b[0m\u001b[1;33m[\u001b[0m\u001b[1;34m'mean'\u001b[0m\u001b[1;33m]\u001b[0m\u001b[1;33m.\u001b[0m\u001b[0mplot\u001b[0m\u001b[1;33m(\u001b[0m\u001b[0mkind\u001b[0m\u001b[1;33m=\u001b[0m\u001b[1;34m'bar'\u001b[0m\u001b[1;33m)\u001b[0m\u001b[1;33m\u001b[0m\u001b[0m\n\u001b[0m",
      "\u001b[0;31mTypeError\u001b[0m: 'NoneType' object is not subscriptable"
     ]
    }
   ],
   "source": [
    "ss(surveytwo)['mean'].plot(kind='bar')"
   ]
  },
  {
   "cell_type": "code",
   "execution_count": 25,
   "metadata": {
    "collapsed": false
   },
   "outputs": [
    {
     "ename": "NameError",
     "evalue": "name 'head' is not defined",
     "output_type": "error",
     "traceback": [
      "\u001b[0;31m---------------------------------------------------------------------------\u001b[0m",
      "\u001b[0;31mNameError\u001b[0m                                 Traceback (most recent call last)",
      "\u001b[0;32m<ipython-input-25-f9a0b0e93294>\u001b[0m in \u001b[0;36m<module>\u001b[0;34m()\u001b[0m\n\u001b[0;32m----> 1\u001b[0;31m \u001b[0mhead\u001b[0m\u001b[1;33m(\u001b[0m\u001b[0msurvey_two\u001b[0m\u001b[1;33m)\u001b[0m\u001b[1;33m\u001b[0m\u001b[0m\n\u001b[0m",
      "\u001b[0;31mNameError\u001b[0m: name 'head' is not defined"
     ]
    }
   ],
   "source": [
    "head(survey_two)"
   ]
  },
  {
   "cell_type": "code",
   "execution_count": 26,
   "metadata": {
    "collapsed": false
   },
   "outputs": [
    {
     "data": {
      "text/html": [
       "<div>\n",
       "<table border=\"1\" class=\"dataframe\">\n",
       "  <thead>\n",
       "    <tr style=\"text-align: right;\">\n",
       "      <th></th>\n",
       "      <th>record_id</th>\n",
       "      <th>month</th>\n",
       "      <th>day</th>\n",
       "      <th>year</th>\n",
       "      <th>plot</th>\n",
       "      <th>species</th>\n",
       "      <th>sex</th>\n",
       "      <th>wgt</th>\n",
       "    </tr>\n",
       "  </thead>\n",
       "  <tbody>\n",
       "    <tr>\n",
       "      <th>0</th>\n",
       "      <td>504</td>\n",
       "      <td>1</td>\n",
       "      <td>8</td>\n",
       "      <td>1978</td>\n",
       "      <td>3</td>\n",
       "      <td>OL</td>\n",
       "      <td>NaN</td>\n",
       "      <td>NaN</td>\n",
       "    </tr>\n",
       "    <tr>\n",
       "      <th>1</th>\n",
       "      <td>505</td>\n",
       "      <td>1</td>\n",
       "      <td>8</td>\n",
       "      <td>1978</td>\n",
       "      <td>13</td>\n",
       "      <td>DM</td>\n",
       "      <td>M</td>\n",
       "      <td>43.0</td>\n",
       "    </tr>\n",
       "    <tr>\n",
       "      <th>2</th>\n",
       "      <td>506</td>\n",
       "      <td>1</td>\n",
       "      <td>8</td>\n",
       "      <td>1978</td>\n",
       "      <td>2</td>\n",
       "      <td>NaN</td>\n",
       "      <td>NaN</td>\n",
       "      <td>NaN</td>\n",
       "    </tr>\n",
       "    <tr>\n",
       "      <th>3</th>\n",
       "      <td>507</td>\n",
       "      <td>1</td>\n",
       "      <td>8</td>\n",
       "      <td>1978</td>\n",
       "      <td>2</td>\n",
       "      <td>DM</td>\n",
       "      <td>M</td>\n",
       "      <td>44.0</td>\n",
       "    </tr>\n",
       "    <tr>\n",
       "      <th>4</th>\n",
       "      <td>508</td>\n",
       "      <td>1</td>\n",
       "      <td>8</td>\n",
       "      <td>1978</td>\n",
       "      <td>20</td>\n",
       "      <td>DM</td>\n",
       "      <td>F</td>\n",
       "      <td>36.0</td>\n",
       "    </tr>\n",
       "  </tbody>\n",
       "</table>\n",
       "</div>"
      ],
      "text/plain": [
       "   record_id  month  day  year  plot species  sex   wgt\n",
       "0        504      1    8  1978     3      OL  NaN   NaN\n",
       "1        505      1    8  1978    13      DM    M  43.0\n",
       "2        506      1    8  1978     2     NaN  NaN   NaN\n",
       "3        507      1    8  1978     2      DM    M  44.0\n",
       "4        508      1    8  1978    20      DM    F  36.0"
      ]
     },
     "execution_count": 26,
     "metadata": {},
     "output_type": "execute_result"
    }
   ],
   "source": [
    "surveytwo.head()"
   ]
  },
  {
   "cell_type": "code",
   "execution_count": 27,
   "metadata": {
    "collapsed": false
   },
   "outputs": [
    {
     "ename": "NameError",
     "evalue": "name 'survey' is not defined",
     "output_type": "error",
     "traceback": [
      "\u001b[0;31m---------------------------------------------------------------------------\u001b[0m",
      "\u001b[0;31mNameError\u001b[0m                                 Traceback (most recent call last)",
      "\u001b[0;32m<ipython-input-27-76dd5b2ad3fc>\u001b[0m in \u001b[0;36m<module>\u001b[0;34m()\u001b[0m\n\u001b[0;32m----> 1\u001b[0;31m \u001b[0msurvey\u001b[0m\u001b[1;33m.\u001b[0m\u001b[0mhead\u001b[0m\u001b[1;33m(\u001b[0m\u001b[1;33m)\u001b[0m\u001b[1;33m\u001b[0m\u001b[0m\n\u001b[0m",
      "\u001b[0;31mNameError\u001b[0m: name 'survey' is not defined"
     ]
    }
   ],
   "source": [
    "survey.head()"
   ]
  },
  {
   "cell_type": "code",
   "execution_count": 28,
   "metadata": {
    "collapsed": true
   },
   "outputs": [],
   "source": [
    "survey = survey_data"
   ]
  },
  {
   "cell_type": "code",
   "execution_count": 29,
   "metadata": {
    "collapsed": false
   },
   "outputs": [
    {
     "data": {
      "text/html": [
       "<div>\n",
       "<table border=\"1\" class=\"dataframe\">\n",
       "  <thead>\n",
       "    <tr style=\"text-align: right;\">\n",
       "      <th></th>\n",
       "      <th>record_id</th>\n",
       "      <th>month</th>\n",
       "      <th>day</th>\n",
       "      <th>year</th>\n",
       "      <th>plot</th>\n",
       "      <th>species</th>\n",
       "      <th>sex</th>\n",
       "      <th>wgt</th>\n",
       "    </tr>\n",
       "  </thead>\n",
       "  <tbody>\n",
       "    <tr>\n",
       "      <th>0</th>\n",
       "      <td>1</td>\n",
       "      <td>7</td>\n",
       "      <td>16</td>\n",
       "      <td>1977</td>\n",
       "      <td>2</td>\n",
       "      <td>NA</td>\n",
       "      <td>M</td>\n",
       "      <td>NaN</td>\n",
       "    </tr>\n",
       "    <tr>\n",
       "      <th>1</th>\n",
       "      <td>2</td>\n",
       "      <td>7</td>\n",
       "      <td>16</td>\n",
       "      <td>1977</td>\n",
       "      <td>3</td>\n",
       "      <td>NA</td>\n",
       "      <td>M</td>\n",
       "      <td>NaN</td>\n",
       "    </tr>\n",
       "    <tr>\n",
       "      <th>2</th>\n",
       "      <td>3</td>\n",
       "      <td>7</td>\n",
       "      <td>16</td>\n",
       "      <td>1977</td>\n",
       "      <td>2</td>\n",
       "      <td>DM</td>\n",
       "      <td>F</td>\n",
       "      <td>NaN</td>\n",
       "    </tr>\n",
       "    <tr>\n",
       "      <th>3</th>\n",
       "      <td>4</td>\n",
       "      <td>7</td>\n",
       "      <td>16</td>\n",
       "      <td>1977</td>\n",
       "      <td>7</td>\n",
       "      <td>DM</td>\n",
       "      <td>M</td>\n",
       "      <td>NaN</td>\n",
       "    </tr>\n",
       "    <tr>\n",
       "      <th>4</th>\n",
       "      <td>5</td>\n",
       "      <td>7</td>\n",
       "      <td>16</td>\n",
       "      <td>1977</td>\n",
       "      <td>3</td>\n",
       "      <td>DM</td>\n",
       "      <td>M</td>\n",
       "      <td>NaN</td>\n",
       "    </tr>\n",
       "  </tbody>\n",
       "</table>\n",
       "</div>"
      ],
      "text/plain": [
       "   record_id  month  day  year  plot species sex  wgt\n",
       "0          1      7   16  1977     2      NA   M  NaN\n",
       "1          2      7   16  1977     3      NA   M  NaN\n",
       "2          3      7   16  1977     2      DM   F  NaN\n",
       "3          4      7   16  1977     7      DM   M  NaN\n",
       "4          5      7   16  1977     3      DM   M  NaN"
      ]
     },
     "execution_count": 29,
     "metadata": {},
     "output_type": "execute_result"
    }
   ],
   "source": [
    "survey.head()"
   ]
  },
  {
   "cell_type": "code",
   "execution_count": 30,
   "metadata": {
    "collapsed": false
   },
   "outputs": [
    {
     "data": {
      "text/html": [
       "<div>\n",
       "<table border=\"1\" class=\"dataframe\">\n",
       "  <thead>\n",
       "    <tr style=\"text-align: right;\">\n",
       "      <th></th>\n",
       "      <th>count</th>\n",
       "      <th>mean</th>\n",
       "      <th>std</th>\n",
       "      <th>min</th>\n",
       "      <th>25%</th>\n",
       "      <th>50%</th>\n",
       "      <th>75%</th>\n",
       "      <th>max</th>\n",
       "    </tr>\n",
       "    <tr>\n",
       "      <th>month</th>\n",
       "      <th></th>\n",
       "      <th></th>\n",
       "      <th></th>\n",
       "      <th></th>\n",
       "      <th></th>\n",
       "      <th></th>\n",
       "      <th></th>\n",
       "      <th></th>\n",
       "    </tr>\n",
       "  </thead>\n",
       "  <tbody>\n",
       "    <tr>\n",
       "      <th>1</th>\n",
       "      <td>2267.0</td>\n",
       "      <td>41.656815</td>\n",
       "      <td>35.843690</td>\n",
       "      <td>4.0</td>\n",
       "      <td>22.0</td>\n",
       "      <td>38.0</td>\n",
       "      <td>47.0</td>\n",
       "      <td>275.0</td>\n",
       "    </tr>\n",
       "    <tr>\n",
       "      <th>2</th>\n",
       "      <td>2578.0</td>\n",
       "      <td>40.569822</td>\n",
       "      <td>33.760863</td>\n",
       "      <td>4.0</td>\n",
       "      <td>21.0</td>\n",
       "      <td>39.0</td>\n",
       "      <td>48.0</td>\n",
       "      <td>259.0</td>\n",
       "    </tr>\n",
       "    <tr>\n",
       "      <th>3</th>\n",
       "      <td>2998.0</td>\n",
       "      <td>42.558372</td>\n",
       "      <td>35.517553</td>\n",
       "      <td>4.0</td>\n",
       "      <td>20.0</td>\n",
       "      <td>40.0</td>\n",
       "      <td>49.0</td>\n",
       "      <td>259.0</td>\n",
       "    </tr>\n",
       "    <tr>\n",
       "      <th>4</th>\n",
       "      <td>3163.0</td>\n",
       "      <td>45.290231</td>\n",
       "      <td>36.659655</td>\n",
       "      <td>4.0</td>\n",
       "      <td>21.0</td>\n",
       "      <td>41.0</td>\n",
       "      <td>50.0</td>\n",
       "      <td>270.0</td>\n",
       "    </tr>\n",
       "    <tr>\n",
       "      <th>5</th>\n",
       "      <td>2815.0</td>\n",
       "      <td>46.651155</td>\n",
       "      <td>38.479558</td>\n",
       "      <td>4.0</td>\n",
       "      <td>21.0</td>\n",
       "      <td>40.0</td>\n",
       "      <td>50.0</td>\n",
       "      <td>278.0</td>\n",
       "    </tr>\n",
       "    <tr>\n",
       "      <th>6</th>\n",
       "      <td>2442.0</td>\n",
       "      <td>41.161753</td>\n",
       "      <td>35.718637</td>\n",
       "      <td>4.0</td>\n",
       "      <td>19.0</td>\n",
       "      <td>32.0</td>\n",
       "      <td>47.0</td>\n",
       "      <td>241.0</td>\n",
       "    </tr>\n",
       "    <tr>\n",
       "      <th>7</th>\n",
       "      <td>3265.0</td>\n",
       "      <td>39.923124</td>\n",
       "      <td>35.190612</td>\n",
       "      <td>5.0</td>\n",
       "      <td>18.0</td>\n",
       "      <td>30.0</td>\n",
       "      <td>46.0</td>\n",
       "      <td>269.0</td>\n",
       "    </tr>\n",
       "    <tr>\n",
       "      <th>8</th>\n",
       "      <td>2093.0</td>\n",
       "      <td>42.575729</td>\n",
       "      <td>37.743507</td>\n",
       "      <td>5.0</td>\n",
       "      <td>18.0</td>\n",
       "      <td>32.0</td>\n",
       "      <td>46.0</td>\n",
       "      <td>216.0</td>\n",
       "    </tr>\n",
       "    <tr>\n",
       "      <th>9</th>\n",
       "      <td>2445.0</td>\n",
       "      <td>43.830675</td>\n",
       "      <td>39.428113</td>\n",
       "      <td>4.0</td>\n",
       "      <td>20.0</td>\n",
       "      <td>34.0</td>\n",
       "      <td>48.0</td>\n",
       "      <td>248.0</td>\n",
       "    </tr>\n",
       "    <tr>\n",
       "      <th>10</th>\n",
       "      <td>2811.0</td>\n",
       "      <td>43.879402</td>\n",
       "      <td>38.703417</td>\n",
       "      <td>4.0</td>\n",
       "      <td>22.0</td>\n",
       "      <td>36.0</td>\n",
       "      <td>47.0</td>\n",
       "      <td>274.0</td>\n",
       "    </tr>\n",
       "    <tr>\n",
       "      <th>11</th>\n",
       "      <td>2830.0</td>\n",
       "      <td>43.046996</td>\n",
       "      <td>37.530404</td>\n",
       "      <td>4.0</td>\n",
       "      <td>22.0</td>\n",
       "      <td>36.0</td>\n",
       "      <td>46.0</td>\n",
       "      <td>280.0</td>\n",
       "    </tr>\n",
       "    <tr>\n",
       "      <th>12</th>\n",
       "      <td>2576.0</td>\n",
       "      <td>40.408385</td>\n",
       "      <td>34.195386</td>\n",
       "      <td>4.0</td>\n",
       "      <td>22.0</td>\n",
       "      <td>36.0</td>\n",
       "      <td>46.0</td>\n",
       "      <td>248.0</td>\n",
       "    </tr>\n",
       "  </tbody>\n",
       "</table>\n",
       "</div>"
      ],
      "text/plain": [
       "        count       mean        std  min   25%   50%   75%    max\n",
       "month                                                            \n",
       "1      2267.0  41.656815  35.843690  4.0  22.0  38.0  47.0  275.0\n",
       "2      2578.0  40.569822  33.760863  4.0  21.0  39.0  48.0  259.0\n",
       "3      2998.0  42.558372  35.517553  4.0  20.0  40.0  49.0  259.0\n",
       "4      3163.0  45.290231  36.659655  4.0  21.0  41.0  50.0  270.0\n",
       "5      2815.0  46.651155  38.479558  4.0  21.0  40.0  50.0  278.0\n",
       "6      2442.0  41.161753  35.718637  4.0  19.0  32.0  47.0  241.0\n",
       "7      3265.0  39.923124  35.190612  5.0  18.0  30.0  46.0  269.0\n",
       "8      2093.0  42.575729  37.743507  5.0  18.0  32.0  46.0  216.0\n",
       "9      2445.0  43.830675  39.428113  4.0  20.0  34.0  48.0  248.0\n",
       "10     2811.0  43.879402  38.703417  4.0  22.0  36.0  47.0  274.0\n",
       "11     2830.0  43.046996  37.530404  4.0  22.0  36.0  46.0  280.0\n",
       "12     2576.0  40.408385  34.195386  4.0  22.0  36.0  46.0  248.0"
      ]
     },
     "execution_count": 30,
     "metadata": {},
     "output_type": "execute_result"
    }
   ],
   "source": [
    "def sum_weight(dat):\n",
    "    return dat.groupby('month').wgt.describe().unstack()\n",
    "sum_weight(survey)"
   ]
  },
  {
   "cell_type": "code",
   "execution_count": 32,
   "metadata": {
    "collapsed": false
   },
   "outputs": [
    {
     "data": {
      "text/plain": [
       "<matplotlib.axes._subplots.AxesSubplot at 0x1ef81381f60>"
      ]
     },
     "execution_count": 32,
     "metadata": {},
     "output_type": "execute_result"
    },
    {
     "data": {
      "image/png": "[encoded data removed]",
      "text/plain": [
       "<matplotlib.figure.Figure at 0x1ef80af97b8>"
      ]
     },
     "metadata": {},
     "output_type": "display_data"
    }
   ],
   "source": [
    "survey2 = surveytwo\n",
    "sum_weight(survey2)['mean'].plot(kind='bar')"
   ]
  },
  {
   "cell_type": "code",
   "execution_count": 42,
   "metadata": {
    "collapsed": false
   },
   "outputs": [
    {
     "data": {
      "text/plain": [
       "month  sex\n",
       "1      F      32.873786\n",
       "       M      36.399514\n",
       "2      F      38.552931\n",
       "       M      41.916608\n",
       "       R            NaN\n",
       "3      F      42.484067\n",
       "       M      42.411449\n",
       "4      F      45.565522\n",
       "       M      45.121512\n",
       "       Z      18.000000\n",
       "5      F      71.832725\n",
       "       M      71.151811\n",
       "6      F      40.691016\n",
       "       M      41.546913\n",
       "7      F      38.202555\n",
       "       M      41.471100\n",
       "       P      13.000000\n",
       "       R            NaN\n",
       "8      F      41.406877\n",
       "       M      43.447646\n",
       "9      F      43.762185\n",
       "       M      43.998394\n",
       "10     F      42.485863\n",
       "       M      45.105082\n",
       "11     F      43.266075\n",
       "       M      42.689843\n",
       "12     F      39.343224\n",
       "       M      41.228788\n",
       "       R            NaN\n",
       "Name: wgt, dtype: float64"
      ]
     },
     "execution_count": 42,
     "metadata": {},
     "output_type": "execute_result"
    }
   ],
   "source": [
    "def compare_mf(dat):\n",
    "    return(dat.groupby(['month','sex']).wgt.mean())\n",
    "compare_mf(survey2)"
   ]
  },
  {
   "cell_type": "code",
   "execution_count": 34,
   "metadata": {
    "collapsed": false
   },
   "outputs": [
    {
     "data": {
      "text/html": [
       "<div>\n",
       "<table border=\"1\" class=\"dataframe\">\n",
       "  <thead>\n",
       "    <tr style=\"text-align: right;\">\n",
       "      <th></th>\n",
       "      <th>record_id</th>\n",
       "      <th>month</th>\n",
       "      <th>day</th>\n",
       "      <th>year</th>\n",
       "      <th>plot</th>\n",
       "      <th>species</th>\n",
       "      <th>sex</th>\n",
       "      <th>wgt</th>\n",
       "    </tr>\n",
       "  </thead>\n",
       "  <tbody>\n",
       "    <tr>\n",
       "      <th>0</th>\n",
       "      <td>504</td>\n",
       "      <td>1</td>\n",
       "      <td>8</td>\n",
       "      <td>1978</td>\n",
       "      <td>3</td>\n",
       "      <td>OL</td>\n",
       "      <td>NaN</td>\n",
       "      <td>NaN</td>\n",
       "    </tr>\n",
       "    <tr>\n",
       "      <th>1</th>\n",
       "      <td>505</td>\n",
       "      <td>1</td>\n",
       "      <td>8</td>\n",
       "      <td>1978</td>\n",
       "      <td>13</td>\n",
       "      <td>DM</td>\n",
       "      <td>M</td>\n",
       "      <td>43.0</td>\n",
       "    </tr>\n",
       "    <tr>\n",
       "      <th>2</th>\n",
       "      <td>506</td>\n",
       "      <td>1</td>\n",
       "      <td>8</td>\n",
       "      <td>1978</td>\n",
       "      <td>2</td>\n",
       "      <td>NaN</td>\n",
       "      <td>NaN</td>\n",
       "      <td>NaN</td>\n",
       "    </tr>\n",
       "    <tr>\n",
       "      <th>3</th>\n",
       "      <td>507</td>\n",
       "      <td>1</td>\n",
       "      <td>8</td>\n",
       "      <td>1978</td>\n",
       "      <td>2</td>\n",
       "      <td>DM</td>\n",
       "      <td>M</td>\n",
       "      <td>44.0</td>\n",
       "    </tr>\n",
       "    <tr>\n",
       "      <th>4</th>\n",
       "      <td>508</td>\n",
       "      <td>1</td>\n",
       "      <td>8</td>\n",
       "      <td>1978</td>\n",
       "      <td>20</td>\n",
       "      <td>DM</td>\n",
       "      <td>F</td>\n",
       "      <td>36.0</td>\n",
       "    </tr>\n",
       "    <tr>\n",
       "      <th>5</th>\n",
       "      <td>509</td>\n",
       "      <td>1</td>\n",
       "      <td>8</td>\n",
       "      <td>1978</td>\n",
       "      <td>3</td>\n",
       "      <td>NaN</td>\n",
       "      <td>NaN</td>\n",
       "      <td>NaN</td>\n",
       "    </tr>\n",
       "    <tr>\n",
       "      <th>6</th>\n",
       "      <td>510</td>\n",
       "      <td>1</td>\n",
       "      <td>8</td>\n",
       "      <td>1978</td>\n",
       "      <td>13</td>\n",
       "      <td>PF</td>\n",
       "      <td>F</td>\n",
       "      <td>8.0</td>\n",
       "    </tr>\n",
       "    <tr>\n",
       "      <th>7</th>\n",
       "      <td>511</td>\n",
       "      <td>1</td>\n",
       "      <td>8</td>\n",
       "      <td>1978</td>\n",
       "      <td>2</td>\n",
       "      <td>DM</td>\n",
       "      <td>M</td>\n",
       "      <td>38.0</td>\n",
       "    </tr>\n",
       "    <tr>\n",
       "      <th>8</th>\n",
       "      <td>512</td>\n",
       "      <td>1</td>\n",
       "      <td>8</td>\n",
       "      <td>1978</td>\n",
       "      <td>9</td>\n",
       "      <td>DS</td>\n",
       "      <td>F</td>\n",
       "      <td>122.0</td>\n",
       "    </tr>\n",
       "    <tr>\n",
       "      <th>9</th>\n",
       "      <td>513</td>\n",
       "      <td>1</td>\n",
       "      <td>8</td>\n",
       "      <td>1978</td>\n",
       "      <td>2</td>\n",
       "      <td>OL</td>\n",
       "      <td>NaN</td>\n",
       "      <td>NaN</td>\n",
       "    </tr>\n",
       "    <tr>\n",
       "      <th>10</th>\n",
       "      <td>514</td>\n",
       "      <td>1</td>\n",
       "      <td>8</td>\n",
       "      <td>1978</td>\n",
       "      <td>9</td>\n",
       "      <td>PF</td>\n",
       "      <td>M</td>\n",
       "      <td>7.0</td>\n",
       "    </tr>\n",
       "    <tr>\n",
       "      <th>11</th>\n",
       "      <td>515</td>\n",
       "      <td>1</td>\n",
       "      <td>8</td>\n",
       "      <td>1978</td>\n",
       "      <td>9</td>\n",
       "      <td>DO</td>\n",
       "      <td>F</td>\n",
       "      <td>42.0</td>\n",
       "    </tr>\n",
       "    <tr>\n",
       "      <th>12</th>\n",
       "      <td>516</td>\n",
       "      <td>1</td>\n",
       "      <td>8</td>\n",
       "      <td>1978</td>\n",
       "      <td>9</td>\n",
       "      <td>DM</td>\n",
       "      <td>M</td>\n",
       "      <td>-46.0</td>\n",
       "    </tr>\n",
       "    <tr>\n",
       "      <th>18</th>\n",
       "      <td>522</td>\n",
       "      <td>1</td>\n",
       "      <td>8</td>\n",
       "      <td>1978</td>\n",
       "      <td>2</td>\n",
       "      <td>DM</td>\n",
       "      <td>F</td>\n",
       "      <td>35.0</td>\n",
       "    </tr>\n",
       "    <tr>\n",
       "      <th>20</th>\n",
       "      <td>524</td>\n",
       "      <td>1</td>\n",
       "      <td>8</td>\n",
       "      <td>1978</td>\n",
       "      <td>20</td>\n",
       "      <td>DM</td>\n",
       "      <td>NaN</td>\n",
       "      <td>NaN</td>\n",
       "    </tr>\n",
       "    <tr>\n",
       "      <th>4236</th>\n",
       "      <td>21330</td>\n",
       "      <td>2</td>\n",
       "      <td>1</td>\n",
       "      <td>1994</td>\n",
       "      <td>7</td>\n",
       "      <td>AH</td>\n",
       "      <td>R</td>\n",
       "      <td>NaN</td>\n",
       "    </tr>\n",
       "    <tr>\n",
       "      <th>11256</th>\n",
       "      <td>23839</td>\n",
       "      <td>4</td>\n",
       "      <td>15</td>\n",
       "      <td>1996</td>\n",
       "      <td>3</td>\n",
       "      <td>PP</td>\n",
       "      <td>Z</td>\n",
       "      <td>18.0</td>\n",
       "    </tr>\n",
       "    <tr>\n",
       "      <th>20021</th>\n",
       "      <td>22488</td>\n",
       "      <td>7</td>\n",
       "      <td>21</td>\n",
       "      <td>1995</td>\n",
       "      <td>8</td>\n",
       "      <td>PP</td>\n",
       "      <td>P</td>\n",
       "      <td>13.0</td>\n",
       "    </tr>\n",
       "    <tr>\n",
       "      <th>20041</th>\n",
       "      <td>22508</td>\n",
       "      <td>7</td>\n",
       "      <td>21</td>\n",
       "      <td>1995</td>\n",
       "      <td>5</td>\n",
       "      <td>AH</td>\n",
       "      <td>R</td>\n",
       "      <td>NaN</td>\n",
       "    </tr>\n",
       "    <tr>\n",
       "      <th>34204</th>\n",
       "      <td>21274</td>\n",
       "      <td>12</td>\n",
       "      <td>14</td>\n",
       "      <td>1993</td>\n",
       "      <td>24</td>\n",
       "      <td>AH</td>\n",
       "      <td>R</td>\n",
       "      <td>NaN</td>\n",
       "    </tr>\n",
       "  </tbody>\n",
       "</table>\n",
       "</div>"
      ],
      "text/plain": [
       "       record_id  month  day  year  plot species  sex    wgt\n",
       "0            504      1    8  1978     3      OL  NaN    NaN\n",
       "1            505      1    8  1978    13      DM    M   43.0\n",
       "2            506      1    8  1978     2     NaN  NaN    NaN\n",
       "3            507      1    8  1978     2      DM    M   44.0\n",
       "4            508      1    8  1978    20      DM    F   36.0\n",
       "5            509      1    8  1978     3     NaN  NaN    NaN\n",
       "6            510      1    8  1978    13      PF    F    8.0\n",
       "7            511      1    8  1978     2      DM    M   38.0\n",
       "8            512      1    8  1978     9      DS    F  122.0\n",
       "9            513      1    8  1978     2      OL  NaN    NaN\n",
       "10           514      1    8  1978     9      PF    M    7.0\n",
       "11           515      1    8  1978     9      DO    F   42.0\n",
       "12           516      1    8  1978     9      DM    M  -46.0\n",
       "18           522      1    8  1978     2      DM    F   35.0\n",
       "20           524      1    8  1978    20      DM  NaN    NaN\n",
       "4236       21330      2    1  1994     7      AH    R    NaN\n",
       "11256      23839      4   15  1996     3      PP    Z   18.0\n",
       "20021      22488      7   21  1995     8      PP    P   13.0\n",
       "20041      22508      7   21  1995     5      AH    R    NaN\n",
       "34204      21274     12   14  1993    24      AH    R    NaN"
      ]
     },
     "execution_count": 34,
     "metadata": {},
     "output_type": "execute_result"
    }
   ],
   "source": [
    "op.head()"
   ]
  },
  {
   "cell_type": "code",
   "execution_count": 43,
   "metadata": {
    "collapsed": true
   },
   "outputs": [],
   "source": [
    "def compare_mf(dat):\n",
    "    return(dat.groupby(['month','sex']))"
   ]
  },
  {
   "cell_type": "code",
   "execution_count": 44,
   "metadata": {
    "collapsed": true
   },
   "outputs": [],
   "source": [
    "asdf = compare_mf(survey2)"
   ]
  },
  {
   "cell_type": "code",
   "execution_count": 49,
   "metadata": {
    "collapsed": false
   },
   "outputs": [
    {
     "data": {
      "text/plain": [
       "<matplotlib.axes._subplots.AxesSubplot at 0x1ef82c42198>"
      ]
     },
     "execution_count": 49,
     "metadata": {},
     "output_type": "execute_result"
    },
    {
     "data": {
      "image/png": "[encoded data removed]",
      "text/plain": [
       "<matplotlib.figure.Figure at 0x1ef82d6aa58>"
      ]
     },
     "metadata": {},
     "output_type": "display_data"
    }
   ],
   "source": [
    "survey2[survey2.month == 5].wgt.plot.hist(bins = 1000,logy = True)"
   ]
  },
  {
   "cell_type": "code",
   "execution_count": 51,
   "metadata": {
    "collapsed": false
   },
   "outputs": [],
   "source": [
    "a=2\n",
    "assert a==2, 'a is not 2'"
   ]
  },
  {
   "cell_type": "code",
   "execution_count": 54,
   "metadata": {
    "collapsed": false
   },
   "outputs": [
    {
     "ename": "AssertionError",
     "evalue": "a is not a string",
     "output_type": "error",
     "traceback": [
      "\u001b[0;31m---------------------------------------------------------------------------\u001b[0m",
      "\u001b[0;31mAssertionError\u001b[0m                            Traceback (most recent call last)",
      "\u001b[0;32m<ipython-input-54-5c4d041e1fa8>\u001b[0m in \u001b[0;36m<module>\u001b[0;34m()\u001b[0m\n\u001b[1;32m      1\u001b[0m \u001b[0ma\u001b[0m \u001b[1;33m=\u001b[0m \u001b[1;34m'test'\u001b[0m\u001b[1;33m\u001b[0m\u001b[0m\n\u001b[0;32m----> 2\u001b[0;31m \u001b[1;32massert\u001b[0m \u001b[0mtype\u001b[0m\u001b[1;33m(\u001b[0m\u001b[1;33m[\u001b[0m\u001b[1;34m'a'\u001b[0m\u001b[1;33m]\u001b[0m\u001b[1;33m)\u001b[0m \u001b[1;33m==\u001b[0m \u001b[0mstr\u001b[0m\u001b[1;33m,\u001b[0m \u001b[1;34m'a is not a string'\u001b[0m\u001b[1;33m\u001b[0m\u001b[0m\n\u001b[0m",
      "\u001b[0;31mAssertionError\u001b[0m: a is not a string"
     ]
    }
   ],
   "source": [
    "a = 'test'\n",
    "assert type(['a']) == str, 'a is not a string'"
   ]
  },
  {
   "cell_type": "code",
   "execution_count": 55,
   "metadata": {
    "collapsed": true
   },
   "outputs": [],
   "source": [
    "def sum_weight(dat):\n",
    "    assert (dat.wgt >500).any() == False, 'some weight >500'\n",
    "    return dat.groupby('month').wgt.describe().unstack()"
   ]
  },
  {
   "cell_type": "code",
   "execution_count": 58,
   "metadata": {
    "collapsed": false
   },
   "outputs": [
    {
     "data": {
      "text/html": [
       "<div>\n",
       "<table border=\"1\" class=\"dataframe\">\n",
       "  <thead>\n",
       "    <tr style=\"text-align: right;\">\n",
       "      <th></th>\n",
       "      <th>count</th>\n",
       "      <th>mean</th>\n",
       "      <th>std</th>\n",
       "      <th>min</th>\n",
       "      <th>25%</th>\n",
       "      <th>50%</th>\n",
       "      <th>75%</th>\n",
       "      <th>max</th>\n",
       "    </tr>\n",
       "    <tr>\n",
       "      <th>month</th>\n",
       "      <th></th>\n",
       "      <th></th>\n",
       "      <th></th>\n",
       "      <th></th>\n",
       "      <th></th>\n",
       "      <th></th>\n",
       "      <th></th>\n",
       "      <th></th>\n",
       "    </tr>\n",
       "  </thead>\n",
       "  <tbody>\n",
       "    <tr>\n",
       "      <th>1</th>\n",
       "      <td>2267.0</td>\n",
       "      <td>34.774592</td>\n",
       "      <td>42.468595</td>\n",
       "      <td>-241.0</td>\n",
       "      <td>20.0</td>\n",
       "      <td>37.0</td>\n",
       "      <td>46.0</td>\n",
       "      <td>275.0</td>\n",
       "    </tr>\n",
       "    <tr>\n",
       "      <th>2</th>\n",
       "      <td>2578.0</td>\n",
       "      <td>40.569822</td>\n",
       "      <td>33.760863</td>\n",
       "      <td>4.0</td>\n",
       "      <td>21.0</td>\n",
       "      <td>39.0</td>\n",
       "      <td>48.0</td>\n",
       "      <td>259.0</td>\n",
       "    </tr>\n",
       "    <tr>\n",
       "      <th>3</th>\n",
       "      <td>2998.0</td>\n",
       "      <td>42.558372</td>\n",
       "      <td>35.517553</td>\n",
       "      <td>4.0</td>\n",
       "      <td>20.0</td>\n",
       "      <td>40.0</td>\n",
       "      <td>49.0</td>\n",
       "      <td>259.0</td>\n",
       "    </tr>\n",
       "    <tr>\n",
       "      <th>4</th>\n",
       "      <td>3163.0</td>\n",
       "      <td>45.290231</td>\n",
       "      <td>36.659655</td>\n",
       "      <td>4.0</td>\n",
       "      <td>21.0</td>\n",
       "      <td>41.0</td>\n",
       "      <td>50.0</td>\n",
       "      <td>270.0</td>\n",
       "    </tr>\n",
       "    <tr>\n",
       "      <th>5</th>\n",
       "      <td>2790.0</td>\n",
       "      <td>47.011470</td>\n",
       "      <td>41.102264</td>\n",
       "      <td>4.0</td>\n",
       "      <td>21.0</td>\n",
       "      <td>40.0</td>\n",
       "      <td>50.0</td>\n",
       "      <td>496.0</td>\n",
       "    </tr>\n",
       "    <tr>\n",
       "      <th>6</th>\n",
       "      <td>2442.0</td>\n",
       "      <td>41.161753</td>\n",
       "      <td>35.718637</td>\n",
       "      <td>4.0</td>\n",
       "      <td>19.0</td>\n",
       "      <td>32.0</td>\n",
       "      <td>47.0</td>\n",
       "      <td>241.0</td>\n",
       "    </tr>\n",
       "    <tr>\n",
       "      <th>7</th>\n",
       "      <td>3265.0</td>\n",
       "      <td>39.923124</td>\n",
       "      <td>35.190612</td>\n",
       "      <td>5.0</td>\n",
       "      <td>18.0</td>\n",
       "      <td>30.0</td>\n",
       "      <td>46.0</td>\n",
       "      <td>269.0</td>\n",
       "    </tr>\n",
       "    <tr>\n",
       "      <th>8</th>\n",
       "      <td>2093.0</td>\n",
       "      <td>42.575729</td>\n",
       "      <td>37.743507</td>\n",
       "      <td>5.0</td>\n",
       "      <td>18.0</td>\n",
       "      <td>32.0</td>\n",
       "      <td>46.0</td>\n",
       "      <td>216.0</td>\n",
       "    </tr>\n",
       "    <tr>\n",
       "      <th>9</th>\n",
       "      <td>2445.0</td>\n",
       "      <td>43.830675</td>\n",
       "      <td>39.428113</td>\n",
       "      <td>4.0</td>\n",
       "      <td>20.0</td>\n",
       "      <td>34.0</td>\n",
       "      <td>48.0</td>\n",
       "      <td>248.0</td>\n",
       "    </tr>\n",
       "    <tr>\n",
       "      <th>10</th>\n",
       "      <td>2811.0</td>\n",
       "      <td>43.879402</td>\n",
       "      <td>38.703417</td>\n",
       "      <td>4.0</td>\n",
       "      <td>22.0</td>\n",
       "      <td>36.0</td>\n",
       "      <td>47.0</td>\n",
       "      <td>274.0</td>\n",
       "    </tr>\n",
       "    <tr>\n",
       "      <th>11</th>\n",
       "      <td>2830.0</td>\n",
       "      <td>43.046996</td>\n",
       "      <td>37.530404</td>\n",
       "      <td>4.0</td>\n",
       "      <td>22.0</td>\n",
       "      <td>36.0</td>\n",
       "      <td>46.0</td>\n",
       "      <td>280.0</td>\n",
       "    </tr>\n",
       "    <tr>\n",
       "      <th>12</th>\n",
       "      <td>2576.0</td>\n",
       "      <td>40.408385</td>\n",
       "      <td>34.195386</td>\n",
       "      <td>4.0</td>\n",
       "      <td>22.0</td>\n",
       "      <td>36.0</td>\n",
       "      <td>46.0</td>\n",
       "      <td>248.0</td>\n",
       "    </tr>\n",
       "  </tbody>\n",
       "</table>\n",
       "</div>"
      ],
      "text/plain": [
       "        count       mean        std    min   25%   50%   75%    max\n",
       "month                                                              \n",
       "1      2267.0  34.774592  42.468595 -241.0  20.0  37.0  46.0  275.0\n",
       "2      2578.0  40.569822  33.760863    4.0  21.0  39.0  48.0  259.0\n",
       "3      2998.0  42.558372  35.517553    4.0  20.0  40.0  49.0  259.0\n",
       "4      3163.0  45.290231  36.659655    4.0  21.0  41.0  50.0  270.0\n",
       "5      2790.0  47.011470  41.102264    4.0  21.0  40.0  50.0  496.0\n",
       "6      2442.0  41.161753  35.718637    4.0  19.0  32.0  47.0  241.0\n",
       "7      3265.0  39.923124  35.190612    5.0  18.0  30.0  46.0  269.0\n",
       "8      2093.0  42.575729  37.743507    5.0  18.0  32.0  46.0  216.0\n",
       "9      2445.0  43.830675  39.428113    4.0  20.0  34.0  48.0  248.0\n",
       "10     2811.0  43.879402  38.703417    4.0  22.0  36.0  47.0  274.0\n",
       "11     2830.0  43.046996  37.530404    4.0  22.0  36.0  46.0  280.0\n",
       "12     2576.0  40.408385  34.195386    4.0  22.0  36.0  46.0  248.0"
      ]
     },
     "execution_count": 58,
     "metadata": {},
     "output_type": "execute_result"
    }
   ],
   "source": [
    "sum_weight(survey2[survey2.wgt<500])"
   ]
  },
  {
   "cell_type": "code",
   "execution_count": 60,
   "metadata": {
    "collapsed": false
   },
   "outputs": [
    {
     "data": {
      "text/plain": [
       "<matplotlib.axes._subplots.AxesSubplot at 0x1ef82c186a0>"
      ]
     },
     "execution_count": 60,
     "metadata": {},
     "output_type": "execute_result"
    },
    {
     "data": {
      "image/png": "[encoded data removed]",
      "text/plain": [
       "<matplotlib.figure.Figure at 0x1ef8575ba20>"
      ]
     },
     "metadata": {},
     "output_type": "display_data"
    }
   ],
   "source": [
    "survey2[survey2.month == 1].wgt.plot.hist(bins = 750,logy = True)"
   ]
  },
  {
   "cell_type": "code",
   "execution_count": 61,
   "metadata": {
    "collapsed": true
   },
   "outputs": [],
   "source": [
    "def sum_weight(dat):\n",
    "    assert (dat.wgt >500).any() == False, 'some weight >500'\n",
    "    assert (dat.wgt <0).any() == False, 'some weight <0'\n",
    "    return dat.groupby('month').wgt.describe().unstack()"
   ]
  },
  {
   "cell_type": "code",
   "execution_count": 64,
   "metadata": {
    "collapsed": false
   },
   "outputs": [
    {
     "data": {
      "text/html": [
       "<div>\n",
       "<table border=\"1\" class=\"dataframe\">\n",
       "  <thead>\n",
       "    <tr style=\"text-align: right;\">\n",
       "      <th></th>\n",
       "      <th>count</th>\n",
       "      <th>mean</th>\n",
       "      <th>std</th>\n",
       "      <th>min</th>\n",
       "      <th>25%</th>\n",
       "      <th>50%</th>\n",
       "      <th>75%</th>\n",
       "      <th>max</th>\n",
       "    </tr>\n",
       "    <tr>\n",
       "      <th>month</th>\n",
       "      <th></th>\n",
       "      <th></th>\n",
       "      <th></th>\n",
       "      <th></th>\n",
       "      <th></th>\n",
       "      <th></th>\n",
       "      <th></th>\n",
       "      <th></th>\n",
       "    </tr>\n",
       "  </thead>\n",
       "  <tbody>\n",
       "    <tr>\n",
       "      <th>1</th>\n",
       "      <td>2212.0</td>\n",
       "      <td>39.146474</td>\n",
       "      <td>32.075404</td>\n",
       "      <td>4.0</td>\n",
       "      <td>22.0</td>\n",
       "      <td>37.0</td>\n",
       "      <td>46.0</td>\n",
       "      <td>275.0</td>\n",
       "    </tr>\n",
       "    <tr>\n",
       "      <th>2</th>\n",
       "      <td>2578.0</td>\n",
       "      <td>40.569822</td>\n",
       "      <td>33.760863</td>\n",
       "      <td>4.0</td>\n",
       "      <td>21.0</td>\n",
       "      <td>39.0</td>\n",
       "      <td>48.0</td>\n",
       "      <td>259.0</td>\n",
       "    </tr>\n",
       "    <tr>\n",
       "      <th>3</th>\n",
       "      <td>2998.0</td>\n",
       "      <td>42.558372</td>\n",
       "      <td>35.517553</td>\n",
       "      <td>4.0</td>\n",
       "      <td>20.0</td>\n",
       "      <td>40.0</td>\n",
       "      <td>49.0</td>\n",
       "      <td>259.0</td>\n",
       "    </tr>\n",
       "    <tr>\n",
       "      <th>4</th>\n",
       "      <td>3163.0</td>\n",
       "      <td>45.290231</td>\n",
       "      <td>36.659655</td>\n",
       "      <td>4.0</td>\n",
       "      <td>21.0</td>\n",
       "      <td>41.0</td>\n",
       "      <td>50.0</td>\n",
       "      <td>270.0</td>\n",
       "    </tr>\n",
       "    <tr>\n",
       "      <th>5</th>\n",
       "      <td>2790.0</td>\n",
       "      <td>47.011470</td>\n",
       "      <td>41.102264</td>\n",
       "      <td>4.0</td>\n",
       "      <td>21.0</td>\n",
       "      <td>40.0</td>\n",
       "      <td>50.0</td>\n",
       "      <td>496.0</td>\n",
       "    </tr>\n",
       "    <tr>\n",
       "      <th>6</th>\n",
       "      <td>2442.0</td>\n",
       "      <td>41.161753</td>\n",
       "      <td>35.718637</td>\n",
       "      <td>4.0</td>\n",
       "      <td>19.0</td>\n",
       "      <td>32.0</td>\n",
       "      <td>47.0</td>\n",
       "      <td>241.0</td>\n",
       "    </tr>\n",
       "    <tr>\n",
       "      <th>7</th>\n",
       "      <td>3265.0</td>\n",
       "      <td>39.923124</td>\n",
       "      <td>35.190612</td>\n",
       "      <td>5.0</td>\n",
       "      <td>18.0</td>\n",
       "      <td>30.0</td>\n",
       "      <td>46.0</td>\n",
       "      <td>269.0</td>\n",
       "    </tr>\n",
       "    <tr>\n",
       "      <th>8</th>\n",
       "      <td>2093.0</td>\n",
       "      <td>42.575729</td>\n",
       "      <td>37.743507</td>\n",
       "      <td>5.0</td>\n",
       "      <td>18.0</td>\n",
       "      <td>32.0</td>\n",
       "      <td>46.0</td>\n",
       "      <td>216.0</td>\n",
       "    </tr>\n",
       "    <tr>\n",
       "      <th>9</th>\n",
       "      <td>2445.0</td>\n",
       "      <td>43.830675</td>\n",
       "      <td>39.428113</td>\n",
       "      <td>4.0</td>\n",
       "      <td>20.0</td>\n",
       "      <td>34.0</td>\n",
       "      <td>48.0</td>\n",
       "      <td>248.0</td>\n",
       "    </tr>\n",
       "    <tr>\n",
       "      <th>10</th>\n",
       "      <td>2811.0</td>\n",
       "      <td>43.879402</td>\n",
       "      <td>38.703417</td>\n",
       "      <td>4.0</td>\n",
       "      <td>22.0</td>\n",
       "      <td>36.0</td>\n",
       "      <td>47.0</td>\n",
       "      <td>274.0</td>\n",
       "    </tr>\n",
       "    <tr>\n",
       "      <th>11</th>\n",
       "      <td>2830.0</td>\n",
       "      <td>43.046996</td>\n",
       "      <td>37.530404</td>\n",
       "      <td>4.0</td>\n",
       "      <td>22.0</td>\n",
       "      <td>36.0</td>\n",
       "      <td>46.0</td>\n",
       "      <td>280.0</td>\n",
       "    </tr>\n",
       "    <tr>\n",
       "      <th>12</th>\n",
       "      <td>2576.0</td>\n",
       "      <td>40.408385</td>\n",
       "      <td>34.195386</td>\n",
       "      <td>4.0</td>\n",
       "      <td>22.0</td>\n",
       "      <td>36.0</td>\n",
       "      <td>46.0</td>\n",
       "      <td>248.0</td>\n",
       "    </tr>\n",
       "  </tbody>\n",
       "</table>\n",
       "</div>"
      ],
      "text/plain": [
       "        count       mean        std  min   25%   50%   75%    max\n",
       "month                                                            \n",
       "1      2212.0  39.146474  32.075404  4.0  22.0  37.0  46.0  275.0\n",
       "2      2578.0  40.569822  33.760863  4.0  21.0  39.0  48.0  259.0\n",
       "3      2998.0  42.558372  35.517553  4.0  20.0  40.0  49.0  259.0\n",
       "4      3163.0  45.290231  36.659655  4.0  21.0  41.0  50.0  270.0\n",
       "5      2790.0  47.011470  41.102264  4.0  21.0  40.0  50.0  496.0\n",
       "6      2442.0  41.161753  35.718637  4.0  19.0  32.0  47.0  241.0\n",
       "7      3265.0  39.923124  35.190612  5.0  18.0  30.0  46.0  269.0\n",
       "8      2093.0  42.575729  37.743507  5.0  18.0  32.0  46.0  216.0\n",
       "9      2445.0  43.830675  39.428113  4.0  20.0  34.0  48.0  248.0\n",
       "10     2811.0  43.879402  38.703417  4.0  22.0  36.0  47.0  274.0\n",
       "11     2830.0  43.046996  37.530404  4.0  22.0  36.0  46.0  280.0\n",
       "12     2576.0  40.408385  34.195386  4.0  22.0  36.0  46.0  248.0"
      ]
     },
     "execution_count": 64,
     "metadata": {},
     "output_type": "execute_result"
    }
   ],
   "source": [
    "sum_weight(survey2[(survey2.wgt<500) & (survey2.wgt>0)])"
   ]
  },
  {
   "cell_type": "code",
   "execution_count": 65,
   "metadata": {
    "collapsed": true
   },
   "outputs": [],
   "source": [
    "def test_calc_means_ints0():\n",
    "    l = [0,1,2,3]\n",
    "    obs = calc_mean(l)\n",
    "    exp = 2\n",
    "    assert obs == exp, obs+' not equal '+exp"
   ]
  },
  {
   "cell_type": "code",
   "execution_count": 66,
   "metadata": {
    "collapsed": false
   },
   "outputs": [
    {
     "ename": "NameError",
     "evalue": "name 'calc_mean' is not defined",
     "output_type": "error",
     "traceback": [
      "\u001b[0;31m---------------------------------------------------------------------------\u001b[0m",
      "\u001b[0;31mNameError\u001b[0m                                 Traceback (most recent call last)",
      "\u001b[0;32m<ipython-input-66-32f4b87f5af5>\u001b[0m in \u001b[0;36m<module>\u001b[0;34m()\u001b[0m\n\u001b[0;32m----> 1\u001b[0;31m \u001b[0mtest_calc_means_ints0\u001b[0m\u001b[1;33m(\u001b[0m\u001b[1;33m)\u001b[0m\u001b[1;33m\u001b[0m\u001b[0m\n\u001b[0m",
      "\u001b[0;32m<ipython-input-65-4cbe9195671e>\u001b[0m in \u001b[0;36mtest_calc_means_ints0\u001b[0;34m()\u001b[0m\n\u001b[1;32m      1\u001b[0m \u001b[1;32mdef\u001b[0m \u001b[0mtest_calc_means_ints0\u001b[0m\u001b[1;33m(\u001b[0m\u001b[1;33m)\u001b[0m\u001b[1;33m:\u001b[0m\u001b[1;33m\u001b[0m\u001b[0m\n\u001b[1;32m      2\u001b[0m     \u001b[0ml\u001b[0m \u001b[1;33m=\u001b[0m \u001b[1;33m[\u001b[0m\u001b[1;36m0\u001b[0m\u001b[1;33m,\u001b[0m\u001b[1;36m1\u001b[0m\u001b[1;33m,\u001b[0m\u001b[1;36m2\u001b[0m\u001b[1;33m,\u001b[0m\u001b[1;36m3\u001b[0m\u001b[1;33m]\u001b[0m\u001b[1;33m\u001b[0m\u001b[0m\n\u001b[0;32m----> 3\u001b[0;31m     \u001b[0mobs\u001b[0m \u001b[1;33m=\u001b[0m \u001b[0mcalc_mean\u001b[0m\u001b[1;33m(\u001b[0m\u001b[0ml\u001b[0m\u001b[1;33m)\u001b[0m\u001b[1;33m\u001b[0m\u001b[0m\n\u001b[0m\u001b[1;32m      4\u001b[0m     \u001b[0mexp\u001b[0m \u001b[1;33m=\u001b[0m \u001b[1;36m2\u001b[0m\u001b[1;33m\u001b[0m\u001b[0m\n\u001b[1;32m      5\u001b[0m     \u001b[1;32massert\u001b[0m \u001b[0mobs\u001b[0m \u001b[1;33m==\u001b[0m \u001b[0mexp\u001b[0m\u001b[1;33m,\u001b[0m \u001b[0mobs\u001b[0m\u001b[1;33m+\u001b[0m\u001b[1;34m' not equal '\u001b[0m\u001b[1;33m+\u001b[0m\u001b[0mexp\u001b[0m\u001b[1;33m\u001b[0m\u001b[0m\n",
      "\u001b[0;31mNameError\u001b[0m: name 'calc_mean' is not defined"
     ]
    }
   ],
   "source": [
    "test_calc_means_ints0()"
   ]
  },
  {
   "cell_type": "code",
   "execution_count": 82,
   "metadata": {
    "collapsed": false
   },
   "outputs": [],
   "source": [
    "def isprime(num):\n",
    "    for element in range(2,num): \n",
    "        if num % element == 0:\n",
    "            return False\n",
    "    return True"
   ]
  },
  {
   "cell_type": "code",
   "execution_count": 73,
   "metadata": {
    "collapsed": false
   },
   "outputs": [
    {
     "data": {
      "text/plain": [
       "False"
      ]
     },
     "execution_count": 73,
     "metadata": {},
     "output_type": "execute_result"
    }
   ],
   "source": [
    "is_prime(77)"
   ]
  },
  {
   "cell_type": "code",
   "execution_count": 84,
   "metadata": {
    "collapsed": false
   },
   "outputs": [
    {
     "data": {
      "text/plain": [
       "False"
      ]
     },
     "execution_count": 84,
     "metadata": {},
     "output_type": "execute_result"
    }
   ],
   "source": [
    "isprime(9)"
   ]
  },
  {
   "cell_type": "code",
   "execution_count": 94,
   "metadata": {
    "collapsed": false
   },
   "outputs": [
    {
     "data": {
      "text/plain": [
       "True"
      ]
     },
     "execution_count": 94,
     "metadata": {},
     "output_type": "execute_result"
    }
   ],
   "source": [
    "isprime(13)"
   ]
  },
  {
   "cell_type": "code",
   "execution_count": 108,
   "metadata": {
    "collapsed": true
   },
   "outputs": [],
   "source": [
    "def isprime2(num):\n",
    "    for element in range(2,num-1): \n",
    "        assert num % element != 0, 'not a prime'\n",
    "    return True"
   ]
  },
  {
   "cell_type": "code",
   "execution_count": 115,
   "metadata": {
    "collapsed": false
   },
   "outputs": [
    {
     "data": {
      "text/plain": [
       "True"
      ]
     },
     "execution_count": 115,
     "metadata": {},
     "output_type": "execute_result"
    }
   ],
   "source": [
    "isprime2(29)"
   ]
  },
  {
   "cell_type": "code",
   "execution_count": 1,
   "metadata": {
    "collapsed": true
   },
   "outputs": [],
   "source": [
    "def is_prime3(number):\n",
    "    for element in range(1,number):  #start w 1 b/c don't divide by 0\n",
    "        if number % element == 0:\n",
    "            return False\n",
    "    return True"
   ]
  },
  {
   "cell_type": "code",
   "execution_count": 3,
   "metadata": {
    "collapsed": false
   },
   "outputs": [
    {
     "ename": "SyntaxError",
     "evalue": "invalid syntax (<ipython-input-3-b3a006ce0b33>, line 1)",
     "output_type": "error",
     "traceback": [
      "\u001b[0;36m  File \u001b[0;32m\"<ipython-input-3-b3a006ce0b33>\"\u001b[0;36m, line \u001b[0;32m1\u001b[0m\n\u001b[0;31m    is_prime3(as.int('3'))\u001b[0m\n\u001b[0m               ^\u001b[0m\n\u001b[0;31mSyntaxError\u001b[0m\u001b[0;31m:\u001b[0m invalid syntax\n"
     ]
    }
   ],
   "source": [
    "is_prime3()"
   ]
  },
  {
   "cell_type": "code",
   "execution_count": null,
   "metadata": {
    "collapsed": true
   },
   "outputs": [],
   "source": []
  }
 ],
 "metadata": {
  "kernelspec": {
   "display_name": "Python 3",
   "language": "python",
   "name": "python3"
  },
  "language_info": {
   "codemirror_mode": {
    "name": "ipython",
    "version": 3
   },
   "file_extension": ".py",
   "mimetype": "text/x-python",
   "name": "python",
   "nbconvert_exporter": "python",
   "pygments_lexer": "ipython3",
   "version": "3.6.0"
  }
 },
 "nbformat": 4,
 "nbformat_minor": 2
}
