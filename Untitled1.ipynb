{
 "cells": [
  {
   "cell_type": "code",
   "execution_count": 15,
   "metadata": {
    "collapsed": false
   },
   "outputs": [],
   "source": [
    "import pandas as pd\n",
    "import matplotlib.pyplot as plt\n",
    "import numpy as np\n",
    "%matplotlib inline\n",
    "data = pd.read_csv('allrecords_cover.csv', keep_default_na=False, \n",
    "                          na_values=[\"\"])\n",
    "sl = pd.read_csv('species_list.csv', keep_default_na=False, \n",
    "                          na_values=[\"\"])"
   ]
  },
  {
   "cell_type": "code",
   "execution_count": 16,
   "metadata": {
    "collapsed": false
   },
   "outputs": [
    {
     "data": {
      "text/html": [
       "<div>\n",
       "<table border=\"1\" class=\"dataframe\">\n",
       "  <thead>\n",
       "    <tr style=\"text-align: right;\">\n",
       "      <th></th>\n",
       "      <th>species\t\"density\"\t\"cover\"\t\"growthForm\"\t\"longevity\"</th>\n",
       "    </tr>\n",
       "  </thead>\n",
       "  <tbody>\n",
       "    <tr>\n",
       "      <th>0</th>\n",
       "      <td>Achillea millefolium\\t2\\t\"NA\"\\t\"forb\"\\t\"P\"</td>\n",
       "    </tr>\n",
       "    <tr>\n",
       "      <th>1</th>\n",
       "      <td>Agropyron smithii\\t4649\\t\"NA\"\\t\"grass\"\\t\"P\"</td>\n",
       "    </tr>\n",
       "    <tr>\n",
       "      <th>2</th>\n",
       "      <td>Allium spp.\\t18\\t\"NA\"\\t\"forb\"\\t\"P\"</td>\n",
       "    </tr>\n",
       "    <tr>\n",
       "      <th>3</th>\n",
       "      <td>Allium textile\\t73\\t\"NA\"\\t\"forb\"\\t\"P\"</td>\n",
       "    </tr>\n",
       "    <tr>\n",
       "      <th>4</th>\n",
       "      <td>Ambrosia psilostachya\\t2\\t\"NA\"\\t\"forb\"\\t\"P\"</td>\n",
       "    </tr>\n",
       "  </tbody>\n",
       "</table>\n",
       "</div>"
      ],
      "text/plain": [
       "  species\\t\"density\"\\t\"cover\"\\t\"growthForm\"\\t\"longevity\"\n",
       "0         Achillea millefolium\\t2\\t\"NA\"\\t\"forb\"\\t\"P\"    \n",
       "1        Agropyron smithii\\t4649\\t\"NA\"\\t\"grass\"\\t\"P\"    \n",
       "2                 Allium spp.\\t18\\t\"NA\"\\t\"forb\"\\t\"P\"    \n",
       "3              Allium textile\\t73\\t\"NA\"\\t\"forb\"\\t\"P\"    \n",
       "4        Ambrosia psilostachya\\t2\\t\"NA\"\\t\"forb\"\\t\"P\"    "
      ]
     },
     "execution_count": 16,
     "metadata": {},
     "output_type": "execute_result"
    }
   ],
   "source": [
    "sl.head()"
   ]
  },
  {
   "cell_type": "code",
   "execution_count": null,
   "metadata": {
    "collapsed": true
   },
   "outputs": [],
   "source": []
  }
 ],
 "metadata": {
  "kernelspec": {
   "display_name": "Python 3",
   "language": "python",
   "name": "python3"
  },
  "language_info": {
   "codemirror_mode": {
    "name": "ipython",
    "version": 3
   },
   "file_extension": ".py",
   "mimetype": "text/x-python",
   "name": "python",
   "nbconvert_exporter": "python",
   "pygments_lexer": "ipython3",
   "version": "3.6.0"
  }
 },
 "nbformat": 4,
 "nbformat_minor": 2
}
